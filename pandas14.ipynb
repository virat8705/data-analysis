{
 "cells": [
  {
   "cell_type": "code",
   "execution_count": 1,
   "id": "c3442981",
   "metadata": {},
   "outputs": [],
   "source": [
    "import pandas as pd"
   ]
  },
  {
   "cell_type": "code",
   "execution_count": 2,
   "id": "e1bee43f",
   "metadata": {},
   "outputs": [],
   "source": [
    "dict1 = {'Name': ['Priyang Bhatt', 'Rashmin Panchal', 'Anil Rana', 'Rahul Patel'],\n",
    "        'City': [' New York ', ' Los Angeles ', ' Chicago', ' Houston'],\n",
    "        'State': ['NY', 'CA', 'IL', 'TX']}\n",
    "data = pd.DataFrame(dict1)"
   ]
  },
  {
   "cell_type": "code",
   "execution_count": 3,
   "id": "7045a5a9",
   "metadata": {},
   "outputs": [
    {
     "data": {
      "text/html": [
       "<div>\n",
       "<style scoped>\n",
       "    .dataframe tbody tr th:only-of-type {\n",
       "        vertical-align: middle;\n",
       "    }\n",
       "\n",
       "    .dataframe tbody tr th {\n",
       "        vertical-align: top;\n",
       "    }\n",
       "\n",
       "    .dataframe thead th {\n",
       "        text-align: right;\n",
       "    }\n",
       "</style>\n",
       "<table border=\"1\" class=\"dataframe\">\n",
       "  <thead>\n",
       "    <tr style=\"text-align: right;\">\n",
       "      <th></th>\n",
       "      <th>Name</th>\n",
       "      <th>City</th>\n",
       "      <th>State</th>\n",
       "    </tr>\n",
       "  </thead>\n",
       "  <tbody>\n",
       "    <tr>\n",
       "      <th>0</th>\n",
       "      <td>Priyang Bhatt</td>\n",
       "      <td>New York</td>\n",
       "      <td>NY</td>\n",
       "    </tr>\n",
       "    <tr>\n",
       "      <th>1</th>\n",
       "      <td>Rashmin Panchal</td>\n",
       "      <td>Los Angeles</td>\n",
       "      <td>CA</td>\n",
       "    </tr>\n",
       "    <tr>\n",
       "      <th>2</th>\n",
       "      <td>Anil Rana</td>\n",
       "      <td>Chicago</td>\n",
       "      <td>IL</td>\n",
       "    </tr>\n",
       "    <tr>\n",
       "      <th>3</th>\n",
       "      <td>Rahul Patel</td>\n",
       "      <td>Houston</td>\n",
       "      <td>TX</td>\n",
       "    </tr>\n",
       "  </tbody>\n",
       "</table>\n",
       "</div>"
      ],
      "text/plain": [
       "              Name           City State\n",
       "0    Priyang Bhatt      New York     NY\n",
       "1  Rashmin Panchal   Los Angeles     CA\n",
       "2        Anil Rana        Chicago    IL\n",
       "3      Rahul Patel        Houston    TX"
      ]
     },
     "execution_count": 3,
     "metadata": {},
     "output_type": "execute_result"
    }
   ],
   "source": [
    "data"
   ]
  },
  {
   "cell_type": "code",
   "execution_count": 5,
   "id": "1d4dd831",
   "metadata": {},
   "outputs": [],
   "source": [
    "data['name_lower'] = data['Name'].str.lower()"
   ]
  },
  {
   "cell_type": "code",
   "execution_count": 7,
   "id": "53ad1026",
   "metadata": {},
   "outputs": [
    {
     "data": {
      "text/html": [
       "<div>\n",
       "<style scoped>\n",
       "    .dataframe tbody tr th:only-of-type {\n",
       "        vertical-align: middle;\n",
       "    }\n",
       "\n",
       "    .dataframe tbody tr th {\n",
       "        vertical-align: top;\n",
       "    }\n",
       "\n",
       "    .dataframe thead th {\n",
       "        text-align: right;\n",
       "    }\n",
       "</style>\n",
       "<table border=\"1\" class=\"dataframe\">\n",
       "  <thead>\n",
       "    <tr style=\"text-align: right;\">\n",
       "      <th></th>\n",
       "      <th>Name</th>\n",
       "      <th>City</th>\n",
       "      <th>State</th>\n",
       "      <th>name_lower</th>\n",
       "    </tr>\n",
       "  </thead>\n",
       "  <tbody>\n",
       "    <tr>\n",
       "      <th>0</th>\n",
       "      <td>Priyang Bhatt</td>\n",
       "      <td>New York</td>\n",
       "      <td>NY</td>\n",
       "      <td>priyang bhatt</td>\n",
       "    </tr>\n",
       "    <tr>\n",
       "      <th>1</th>\n",
       "      <td>Rashmin Panchal</td>\n",
       "      <td>Los Angeles</td>\n",
       "      <td>CA</td>\n",
       "      <td>rashmin panchal</td>\n",
       "    </tr>\n",
       "    <tr>\n",
       "      <th>2</th>\n",
       "      <td>Anil Rana</td>\n",
       "      <td>Chicago</td>\n",
       "      <td>IL</td>\n",
       "      <td>anil rana</td>\n",
       "    </tr>\n",
       "    <tr>\n",
       "      <th>3</th>\n",
       "      <td>Rahul Patel</td>\n",
       "      <td>Houston</td>\n",
       "      <td>TX</td>\n",
       "      <td>rahul patel</td>\n",
       "    </tr>\n",
       "  </tbody>\n",
       "</table>\n",
       "</div>"
      ],
      "text/plain": [
       "              Name           City State       name_lower\n",
       "0    Priyang Bhatt      New York     NY    priyang bhatt\n",
       "1  Rashmin Panchal   Los Angeles     CA  rashmin panchal\n",
       "2        Anil Rana        Chicago    IL        anil rana\n",
       "3      Rahul Patel        Houston    TX      rahul patel"
      ]
     },
     "execution_count": 7,
     "metadata": {},
     "output_type": "execute_result"
    }
   ],
   "source": [
    "data"
   ]
  },
  {
   "cell_type": "code",
   "execution_count": 8,
   "id": "f8b1059b",
   "metadata": {},
   "outputs": [],
   "source": [
    "data['name_upper'] = data['Name'].str.upper()"
   ]
  },
  {
   "cell_type": "code",
   "execution_count": 9,
   "id": "e94fd9ca",
   "metadata": {},
   "outputs": [
    {
     "data": {
      "text/html": [
       "<div>\n",
       "<style scoped>\n",
       "    .dataframe tbody tr th:only-of-type {\n",
       "        vertical-align: middle;\n",
       "    }\n",
       "\n",
       "    .dataframe tbody tr th {\n",
       "        vertical-align: top;\n",
       "    }\n",
       "\n",
       "    .dataframe thead th {\n",
       "        text-align: right;\n",
       "    }\n",
       "</style>\n",
       "<table border=\"1\" class=\"dataframe\">\n",
       "  <thead>\n",
       "    <tr style=\"text-align: right;\">\n",
       "      <th></th>\n",
       "      <th>Name</th>\n",
       "      <th>City</th>\n",
       "      <th>State</th>\n",
       "      <th>name_lower</th>\n",
       "      <th>name_upper</th>\n",
       "    </tr>\n",
       "  </thead>\n",
       "  <tbody>\n",
       "    <tr>\n",
       "      <th>0</th>\n",
       "      <td>Priyang Bhatt</td>\n",
       "      <td>New York</td>\n",
       "      <td>NY</td>\n",
       "      <td>priyang bhatt</td>\n",
       "      <td>PRIYANG BHATT</td>\n",
       "    </tr>\n",
       "    <tr>\n",
       "      <th>1</th>\n",
       "      <td>Rashmin Panchal</td>\n",
       "      <td>Los Angeles</td>\n",
       "      <td>CA</td>\n",
       "      <td>rashmin panchal</td>\n",
       "      <td>RASHMIN PANCHAL</td>\n",
       "    </tr>\n",
       "    <tr>\n",
       "      <th>2</th>\n",
       "      <td>Anil Rana</td>\n",
       "      <td>Chicago</td>\n",
       "      <td>IL</td>\n",
       "      <td>anil rana</td>\n",
       "      <td>ANIL RANA</td>\n",
       "    </tr>\n",
       "    <tr>\n",
       "      <th>3</th>\n",
       "      <td>Rahul Patel</td>\n",
       "      <td>Houston</td>\n",
       "      <td>TX</td>\n",
       "      <td>rahul patel</td>\n",
       "      <td>RAHUL PATEL</td>\n",
       "    </tr>\n",
       "  </tbody>\n",
       "</table>\n",
       "</div>"
      ],
      "text/plain": [
       "              Name           City State       name_lower       name_upper\n",
       "0    Priyang Bhatt      New York     NY    priyang bhatt    PRIYANG BHATT\n",
       "1  Rashmin Panchal   Los Angeles     CA  rashmin panchal  RASHMIN PANCHAL\n",
       "2        Anil Rana        Chicago    IL        anil rana        ANIL RANA\n",
       "3      Rahul Patel        Houston    TX      rahul patel      RAHUL PATEL"
      ]
     },
     "execution_count": 9,
     "metadata": {},
     "output_type": "execute_result"
    }
   ],
   "source": [
    "data"
   ]
  },
  {
   "cell_type": "code",
   "execution_count": 10,
   "id": "94f944dc",
   "metadata": {},
   "outputs": [
    {
     "data": {
      "text/plain": [
       "0    13\n",
       "1    15\n",
       "2     9\n",
       "3    11\n",
       "Name: Name, dtype: int64"
      ]
     },
     "execution_count": 10,
     "metadata": {},
     "output_type": "execute_result"
    }
   ],
   "source": [
    "data['Name'].str.len()"
   ]
  },
  {
   "cell_type": "code",
   "execution_count": 11,
   "id": "6fd56058",
   "metadata": {},
   "outputs": [],
   "source": [
    "data['Nmae_len'] = data['Name'].str.len()"
   ]
  },
  {
   "cell_type": "code",
   "execution_count": 12,
   "id": "7a6413c9",
   "metadata": {},
   "outputs": [
    {
     "data": {
      "text/html": [
       "<div>\n",
       "<style scoped>\n",
       "    .dataframe tbody tr th:only-of-type {\n",
       "        vertical-align: middle;\n",
       "    }\n",
       "\n",
       "    .dataframe tbody tr th {\n",
       "        vertical-align: top;\n",
       "    }\n",
       "\n",
       "    .dataframe thead th {\n",
       "        text-align: right;\n",
       "    }\n",
       "</style>\n",
       "<table border=\"1\" class=\"dataframe\">\n",
       "  <thead>\n",
       "    <tr style=\"text-align: right;\">\n",
       "      <th></th>\n",
       "      <th>Name</th>\n",
       "      <th>City</th>\n",
       "      <th>State</th>\n",
       "      <th>name_lower</th>\n",
       "      <th>name_upper</th>\n",
       "      <th>Nmae_len</th>\n",
       "    </tr>\n",
       "  </thead>\n",
       "  <tbody>\n",
       "    <tr>\n",
       "      <th>0</th>\n",
       "      <td>Priyang Bhatt</td>\n",
       "      <td>New York</td>\n",
       "      <td>NY</td>\n",
       "      <td>priyang bhatt</td>\n",
       "      <td>PRIYANG BHATT</td>\n",
       "      <td>13</td>\n",
       "    </tr>\n",
       "    <tr>\n",
       "      <th>1</th>\n",
       "      <td>Rashmin Panchal</td>\n",
       "      <td>Los Angeles</td>\n",
       "      <td>CA</td>\n",
       "      <td>rashmin panchal</td>\n",
       "      <td>RASHMIN PANCHAL</td>\n",
       "      <td>15</td>\n",
       "    </tr>\n",
       "    <tr>\n",
       "      <th>2</th>\n",
       "      <td>Anil Rana</td>\n",
       "      <td>Chicago</td>\n",
       "      <td>IL</td>\n",
       "      <td>anil rana</td>\n",
       "      <td>ANIL RANA</td>\n",
       "      <td>9</td>\n",
       "    </tr>\n",
       "    <tr>\n",
       "      <th>3</th>\n",
       "      <td>Rahul Patel</td>\n",
       "      <td>Houston</td>\n",
       "      <td>TX</td>\n",
       "      <td>rahul patel</td>\n",
       "      <td>RAHUL PATEL</td>\n",
       "      <td>11</td>\n",
       "    </tr>\n",
       "  </tbody>\n",
       "</table>\n",
       "</div>"
      ],
      "text/plain": [
       "              Name           City State       name_lower       name_upper  \\\n",
       "0    Priyang Bhatt      New York     NY    priyang bhatt    PRIYANG BHATT   \n",
       "1  Rashmin Panchal   Los Angeles     CA  rashmin panchal  RASHMIN PANCHAL   \n",
       "2        Anil Rana        Chicago    IL        anil rana        ANIL RANA   \n",
       "3      Rahul Patel        Houston    TX      rahul patel      RAHUL PATEL   \n",
       "\n",
       "   Nmae_len  \n",
       "0        13  \n",
       "1        15  \n",
       "2         9  \n",
       "3        11  "
      ]
     },
     "execution_count": 12,
     "metadata": {},
     "output_type": "execute_result"
    }
   ],
   "source": [
    "data"
   ]
  },
  {
   "cell_type": "code",
   "execution_count": 14,
   "id": "cb0a59b9",
   "metadata": {},
   "outputs": [
    {
     "data": {
      "text/plain": [
       "' New York '"
      ]
     },
     "execution_count": 14,
     "metadata": {},
     "output_type": "execute_result"
    }
   ],
   "source": [
    "data['City'][0]"
   ]
  },
  {
   "cell_type": "code",
   "execution_count": 19,
   "id": "24f27906",
   "metadata": {},
   "outputs": [],
   "source": [
    "data['City_strip'] = data['City'].str.strip()"
   ]
  },
  {
   "cell_type": "code",
   "execution_count": 18,
   "id": "9f75311a",
   "metadata": {},
   "outputs": [
    {
     "data": {
      "text/plain": [
       "' New York '"
      ]
     },
     "execution_count": 18,
     "metadata": {},
     "output_type": "execute_result"
    }
   ],
   "source": [
    "data['City'][0]"
   ]
  },
  {
   "cell_type": "code",
   "execution_count": 20,
   "id": "f992f445",
   "metadata": {},
   "outputs": [
    {
     "data": {
      "text/plain": [
       "'New York'"
      ]
     },
     "execution_count": 20,
     "metadata": {},
     "output_type": "execute_result"
    }
   ],
   "source": [
    "data['City_strip'][0]"
   ]
  },
  {
   "cell_type": "code",
   "execution_count": 21,
   "id": "acf0fa6c",
   "metadata": {},
   "outputs": [
    {
     "data": {
      "text/html": [
       "<div>\n",
       "<style scoped>\n",
       "    .dataframe tbody tr th:only-of-type {\n",
       "        vertical-align: middle;\n",
       "    }\n",
       "\n",
       "    .dataframe tbody tr th {\n",
       "        vertical-align: top;\n",
       "    }\n",
       "\n",
       "    .dataframe thead th {\n",
       "        text-align: right;\n",
       "    }\n",
       "</style>\n",
       "<table border=\"1\" class=\"dataframe\">\n",
       "  <thead>\n",
       "    <tr style=\"text-align: right;\">\n",
       "      <th></th>\n",
       "      <th>Name</th>\n",
       "      <th>City</th>\n",
       "      <th>State</th>\n",
       "      <th>name_lower</th>\n",
       "      <th>name_upper</th>\n",
       "      <th>Nmae_len</th>\n",
       "      <th>City_strip</th>\n",
       "    </tr>\n",
       "  </thead>\n",
       "  <tbody>\n",
       "    <tr>\n",
       "      <th>0</th>\n",
       "      <td>Priyang Bhatt</td>\n",
       "      <td>New York</td>\n",
       "      <td>NY</td>\n",
       "      <td>priyang bhatt</td>\n",
       "      <td>PRIYANG BHATT</td>\n",
       "      <td>13</td>\n",
       "      <td>New York</td>\n",
       "    </tr>\n",
       "    <tr>\n",
       "      <th>1</th>\n",
       "      <td>Rashmin Panchal</td>\n",
       "      <td>Los Angeles</td>\n",
       "      <td>CA</td>\n",
       "      <td>rashmin panchal</td>\n",
       "      <td>RASHMIN PANCHAL</td>\n",
       "      <td>15</td>\n",
       "      <td>Los Angeles</td>\n",
       "    </tr>\n",
       "    <tr>\n",
       "      <th>2</th>\n",
       "      <td>Anil Rana</td>\n",
       "      <td>Chicago</td>\n",
       "      <td>IL</td>\n",
       "      <td>anil rana</td>\n",
       "      <td>ANIL RANA</td>\n",
       "      <td>9</td>\n",
       "      <td>Chicago</td>\n",
       "    </tr>\n",
       "    <tr>\n",
       "      <th>3</th>\n",
       "      <td>Rahul Patel</td>\n",
       "      <td>Houston</td>\n",
       "      <td>TX</td>\n",
       "      <td>rahul patel</td>\n",
       "      <td>RAHUL PATEL</td>\n",
       "      <td>11</td>\n",
       "      <td>Houston</td>\n",
       "    </tr>\n",
       "  </tbody>\n",
       "</table>\n",
       "</div>"
      ],
      "text/plain": [
       "              Name           City State       name_lower       name_upper  \\\n",
       "0    Priyang Bhatt      New York     NY    priyang bhatt    PRIYANG BHATT   \n",
       "1  Rashmin Panchal   Los Angeles     CA  rashmin panchal  RASHMIN PANCHAL   \n",
       "2        Anil Rana        Chicago    IL        anil rana        ANIL RANA   \n",
       "3      Rahul Patel        Houston    TX      rahul patel      RAHUL PATEL   \n",
       "\n",
       "   Nmae_len   City_strip  \n",
       "0        13     New York  \n",
       "1        15  Los Angeles  \n",
       "2         9      Chicago  \n",
       "3        11      Houston  "
      ]
     },
     "execution_count": 21,
     "metadata": {},
     "output_type": "execute_result"
    }
   ],
   "source": [
    "data\n"
   ]
  },
  {
   "cell_type": "code",
   "execution_count": 24,
   "id": "fe39ae58",
   "metadata": {},
   "outputs": [],
   "source": [
    "data[['First_name','Last_name']] = data['Name'].str.split(' ',expand = True)"
   ]
  },
  {
   "cell_type": "code",
   "execution_count": 25,
   "id": "0a3bc864",
   "metadata": {},
   "outputs": [
    {
     "data": {
      "text/html": [
       "<div>\n",
       "<style scoped>\n",
       "    .dataframe tbody tr th:only-of-type {\n",
       "        vertical-align: middle;\n",
       "    }\n",
       "\n",
       "    .dataframe tbody tr th {\n",
       "        vertical-align: top;\n",
       "    }\n",
       "\n",
       "    .dataframe thead th {\n",
       "        text-align: right;\n",
       "    }\n",
       "</style>\n",
       "<table border=\"1\" class=\"dataframe\">\n",
       "  <thead>\n",
       "    <tr style=\"text-align: right;\">\n",
       "      <th></th>\n",
       "      <th>Name</th>\n",
       "      <th>City</th>\n",
       "      <th>State</th>\n",
       "      <th>name_lower</th>\n",
       "      <th>name_upper</th>\n",
       "      <th>Nmae_len</th>\n",
       "      <th>City_strip</th>\n",
       "      <th>First_name</th>\n",
       "      <th>Last_name</th>\n",
       "    </tr>\n",
       "  </thead>\n",
       "  <tbody>\n",
       "    <tr>\n",
       "      <th>0</th>\n",
       "      <td>Priyang Bhatt</td>\n",
       "      <td>New York</td>\n",
       "      <td>NY</td>\n",
       "      <td>priyang bhatt</td>\n",
       "      <td>PRIYANG BHATT</td>\n",
       "      <td>13</td>\n",
       "      <td>New York</td>\n",
       "      <td>Priyang</td>\n",
       "      <td>Bhatt</td>\n",
       "    </tr>\n",
       "    <tr>\n",
       "      <th>1</th>\n",
       "      <td>Rashmin Panchal</td>\n",
       "      <td>Los Angeles</td>\n",
       "      <td>CA</td>\n",
       "      <td>rashmin panchal</td>\n",
       "      <td>RASHMIN PANCHAL</td>\n",
       "      <td>15</td>\n",
       "      <td>Los Angeles</td>\n",
       "      <td>Rashmin</td>\n",
       "      <td>Panchal</td>\n",
       "    </tr>\n",
       "    <tr>\n",
       "      <th>2</th>\n",
       "      <td>Anil Rana</td>\n",
       "      <td>Chicago</td>\n",
       "      <td>IL</td>\n",
       "      <td>anil rana</td>\n",
       "      <td>ANIL RANA</td>\n",
       "      <td>9</td>\n",
       "      <td>Chicago</td>\n",
       "      <td>Anil</td>\n",
       "      <td>Rana</td>\n",
       "    </tr>\n",
       "    <tr>\n",
       "      <th>3</th>\n",
       "      <td>Rahul Patel</td>\n",
       "      <td>Houston</td>\n",
       "      <td>TX</td>\n",
       "      <td>rahul patel</td>\n",
       "      <td>RAHUL PATEL</td>\n",
       "      <td>11</td>\n",
       "      <td>Houston</td>\n",
       "      <td>Rahul</td>\n",
       "      <td>Patel</td>\n",
       "    </tr>\n",
       "  </tbody>\n",
       "</table>\n",
       "</div>"
      ],
      "text/plain": [
       "              Name           City State       name_lower       name_upper  \\\n",
       "0    Priyang Bhatt      New York     NY    priyang bhatt    PRIYANG BHATT   \n",
       "1  Rashmin Panchal   Los Angeles     CA  rashmin panchal  RASHMIN PANCHAL   \n",
       "2        Anil Rana        Chicago    IL        anil rana        ANIL RANA   \n",
       "3      Rahul Patel        Houston    TX      rahul patel      RAHUL PATEL   \n",
       "\n",
       "   Nmae_len   City_strip First_name Last_name  \n",
       "0        13     New York    Priyang     Bhatt  \n",
       "1        15  Los Angeles    Rashmin   Panchal  \n",
       "2         9      Chicago       Anil      Rana  \n",
       "3        11      Houston      Rahul     Patel  "
      ]
     },
     "execution_count": 25,
     "metadata": {},
     "output_type": "execute_result"
    }
   ],
   "source": [
    "data"
   ]
  },
  {
   "cell_type": "code",
   "execution_count": 28,
   "id": "949ef3f3",
   "metadata": {},
   "outputs": [],
   "source": [
    "data['State_name'] = data['State'].str.replace('NY','New York').replace('CA','California')"
   ]
  },
  {
   "cell_type": "code",
   "execution_count": 29,
   "id": "9edcb160",
   "metadata": {},
   "outputs": [
    {
     "data": {
      "text/html": [
       "<div>\n",
       "<style scoped>\n",
       "    .dataframe tbody tr th:only-of-type {\n",
       "        vertical-align: middle;\n",
       "    }\n",
       "\n",
       "    .dataframe tbody tr th {\n",
       "        vertical-align: top;\n",
       "    }\n",
       "\n",
       "    .dataframe thead th {\n",
       "        text-align: right;\n",
       "    }\n",
       "</style>\n",
       "<table border=\"1\" class=\"dataframe\">\n",
       "  <thead>\n",
       "    <tr style=\"text-align: right;\">\n",
       "      <th></th>\n",
       "      <th>Name</th>\n",
       "      <th>City</th>\n",
       "      <th>State</th>\n",
       "      <th>name_lower</th>\n",
       "      <th>name_upper</th>\n",
       "      <th>Nmae_len</th>\n",
       "      <th>City_strip</th>\n",
       "      <th>First_name</th>\n",
       "      <th>Last_name</th>\n",
       "      <th>State_name</th>\n",
       "    </tr>\n",
       "  </thead>\n",
       "  <tbody>\n",
       "    <tr>\n",
       "      <th>0</th>\n",
       "      <td>Priyang Bhatt</td>\n",
       "      <td>New York</td>\n",
       "      <td>NY</td>\n",
       "      <td>priyang bhatt</td>\n",
       "      <td>PRIYANG BHATT</td>\n",
       "      <td>13</td>\n",
       "      <td>New York</td>\n",
       "      <td>Priyang</td>\n",
       "      <td>Bhatt</td>\n",
       "      <td>New York</td>\n",
       "    </tr>\n",
       "    <tr>\n",
       "      <th>1</th>\n",
       "      <td>Rashmin Panchal</td>\n",
       "      <td>Los Angeles</td>\n",
       "      <td>CA</td>\n",
       "      <td>rashmin panchal</td>\n",
       "      <td>RASHMIN PANCHAL</td>\n",
       "      <td>15</td>\n",
       "      <td>Los Angeles</td>\n",
       "      <td>Rashmin</td>\n",
       "      <td>Panchal</td>\n",
       "      <td>California</td>\n",
       "    </tr>\n",
       "    <tr>\n",
       "      <th>2</th>\n",
       "      <td>Anil Rana</td>\n",
       "      <td>Chicago</td>\n",
       "      <td>IL</td>\n",
       "      <td>anil rana</td>\n",
       "      <td>ANIL RANA</td>\n",
       "      <td>9</td>\n",
       "      <td>Chicago</td>\n",
       "      <td>Anil</td>\n",
       "      <td>Rana</td>\n",
       "      <td>IL</td>\n",
       "    </tr>\n",
       "    <tr>\n",
       "      <th>3</th>\n",
       "      <td>Rahul Patel</td>\n",
       "      <td>Houston</td>\n",
       "      <td>TX</td>\n",
       "      <td>rahul patel</td>\n",
       "      <td>RAHUL PATEL</td>\n",
       "      <td>11</td>\n",
       "      <td>Houston</td>\n",
       "      <td>Rahul</td>\n",
       "      <td>Patel</td>\n",
       "      <td>TX</td>\n",
       "    </tr>\n",
       "  </tbody>\n",
       "</table>\n",
       "</div>"
      ],
      "text/plain": [
       "              Name           City State       name_lower       name_upper  \\\n",
       "0    Priyang Bhatt      New York     NY    priyang bhatt    PRIYANG BHATT   \n",
       "1  Rashmin Panchal   Los Angeles     CA  rashmin panchal  RASHMIN PANCHAL   \n",
       "2        Anil Rana        Chicago    IL        anil rana        ANIL RANA   \n",
       "3      Rahul Patel        Houston    TX      rahul patel      RAHUL PATEL   \n",
       "\n",
       "   Nmae_len   City_strip First_name Last_name  State_name  \n",
       "0        13     New York    Priyang     Bhatt    New York  \n",
       "1        15  Los Angeles    Rashmin   Panchal  California  \n",
       "2         9      Chicago       Anil      Rana          IL  \n",
       "3        11      Houston      Rahul     Patel          TX  "
      ]
     },
     "execution_count": 29,
     "metadata": {},
     "output_type": "execute_result"
    }
   ],
   "source": [
    "data"
   ]
  },
  {
   "cell_type": "code",
   "execution_count": 31,
   "id": "5ed1b621",
   "metadata": {},
   "outputs": [
    {
     "data": {
      "text/html": [
       "<div>\n",
       "<style scoped>\n",
       "    .dataframe tbody tr th:only-of-type {\n",
       "        vertical-align: middle;\n",
       "    }\n",
       "\n",
       "    .dataframe tbody tr th {\n",
       "        vertical-align: top;\n",
       "    }\n",
       "\n",
       "    .dataframe thead th {\n",
       "        text-align: right;\n",
       "    }\n",
       "</style>\n",
       "<table border=\"1\" class=\"dataframe\">\n",
       "  <thead>\n",
       "    <tr style=\"text-align: right;\">\n",
       "      <th></th>\n",
       "      <th>Name</th>\n",
       "      <th>City</th>\n",
       "      <th>State</th>\n",
       "      <th>name_lower</th>\n",
       "      <th>name_upper</th>\n",
       "      <th>Nmae_len</th>\n",
       "      <th>City_strip</th>\n",
       "      <th>First_name</th>\n",
       "      <th>Last_name</th>\n",
       "      <th>State_name</th>\n",
       "    </tr>\n",
       "  </thead>\n",
       "  <tbody>\n",
       "    <tr>\n",
       "      <th>0</th>\n",
       "      <td>Priyang Bhatt</td>\n",
       "      <td>New York</td>\n",
       "      <td>NY</td>\n",
       "      <td>priyang bhatt</td>\n",
       "      <td>PRIYANG BHATT</td>\n",
       "      <td>13</td>\n",
       "      <td>New York</td>\n",
       "      <td>Priyang</td>\n",
       "      <td>Bhatt</td>\n",
       "      <td>New York</td>\n",
       "    </tr>\n",
       "  </tbody>\n",
       "</table>\n",
       "</div>"
      ],
      "text/plain": [
       "            Name        City State     name_lower     name_upper  Nmae_len  \\\n",
       "0  Priyang Bhatt   New York     NY  priyang bhatt  PRIYANG BHATT        13   \n",
       "\n",
       "  City_strip First_name Last_name State_name  \n",
       "0   New York    Priyang     Bhatt   New York  "
      ]
     },
     "execution_count": 31,
     "metadata": {},
     "output_type": "execute_result"
    }
   ],
   "source": [
    "data[data['First_name'].str.startswith('P')]"
   ]
  },
  {
   "cell_type": "code",
   "execution_count": 32,
   "id": "d4f0d459",
   "metadata": {},
   "outputs": [
    {
     "data": {
      "text/html": [
       "<div>\n",
       "<style scoped>\n",
       "    .dataframe tbody tr th:only-of-type {\n",
       "        vertical-align: middle;\n",
       "    }\n",
       "\n",
       "    .dataframe tbody tr th {\n",
       "        vertical-align: top;\n",
       "    }\n",
       "\n",
       "    .dataframe thead th {\n",
       "        text-align: right;\n",
       "    }\n",
       "</style>\n",
       "<table border=\"1\" class=\"dataframe\">\n",
       "  <thead>\n",
       "    <tr style=\"text-align: right;\">\n",
       "      <th></th>\n",
       "      <th>Name</th>\n",
       "      <th>City</th>\n",
       "      <th>State</th>\n",
       "      <th>name_lower</th>\n",
       "      <th>name_upper</th>\n",
       "      <th>Nmae_len</th>\n",
       "      <th>City_strip</th>\n",
       "      <th>First_name</th>\n",
       "      <th>Last_name</th>\n",
       "      <th>State_name</th>\n",
       "    </tr>\n",
       "  </thead>\n",
       "  <tbody>\n",
       "    <tr>\n",
       "      <th>1</th>\n",
       "      <td>Rashmin Panchal</td>\n",
       "      <td>Los Angeles</td>\n",
       "      <td>CA</td>\n",
       "      <td>rashmin panchal</td>\n",
       "      <td>RASHMIN PANCHAL</td>\n",
       "      <td>15</td>\n",
       "      <td>Los Angeles</td>\n",
       "      <td>Rashmin</td>\n",
       "      <td>Panchal</td>\n",
       "      <td>California</td>\n",
       "    </tr>\n",
       "    <tr>\n",
       "      <th>3</th>\n",
       "      <td>Rahul Patel</td>\n",
       "      <td>Houston</td>\n",
       "      <td>TX</td>\n",
       "      <td>rahul patel</td>\n",
       "      <td>RAHUL PATEL</td>\n",
       "      <td>11</td>\n",
       "      <td>Houston</td>\n",
       "      <td>Rahul</td>\n",
       "      <td>Patel</td>\n",
       "      <td>TX</td>\n",
       "    </tr>\n",
       "  </tbody>\n",
       "</table>\n",
       "</div>"
      ],
      "text/plain": [
       "              Name           City State       name_lower       name_upper  \\\n",
       "1  Rashmin Panchal   Los Angeles     CA  rashmin panchal  RASHMIN PANCHAL   \n",
       "3      Rahul Patel        Houston    TX      rahul patel      RAHUL PATEL   \n",
       "\n",
       "   Nmae_len   City_strip First_name Last_name  State_name  \n",
       "1        15  Los Angeles    Rashmin   Panchal  California  \n",
       "3        11      Houston      Rahul     Patel          TX  "
      ]
     },
     "execution_count": 32,
     "metadata": {},
     "output_type": "execute_result"
    }
   ],
   "source": [
    "data[data['Last_name'].str.startswith('P')]"
   ]
  },
  {
   "cell_type": "code",
   "execution_count": 33,
   "id": "024d5305",
   "metadata": {},
   "outputs": [
    {
     "data": {
      "text/html": [
       "<div>\n",
       "<style scoped>\n",
       "    .dataframe tbody tr th:only-of-type {\n",
       "        vertical-align: middle;\n",
       "    }\n",
       "\n",
       "    .dataframe tbody tr th {\n",
       "        vertical-align: top;\n",
       "    }\n",
       "\n",
       "    .dataframe thead th {\n",
       "        text-align: right;\n",
       "    }\n",
       "</style>\n",
       "<table border=\"1\" class=\"dataframe\">\n",
       "  <thead>\n",
       "    <tr style=\"text-align: right;\">\n",
       "      <th></th>\n",
       "      <th>Name</th>\n",
       "      <th>City</th>\n",
       "      <th>State</th>\n",
       "      <th>name_lower</th>\n",
       "      <th>name_upper</th>\n",
       "      <th>Nmae_len</th>\n",
       "      <th>City_strip</th>\n",
       "      <th>First_name</th>\n",
       "      <th>Last_name</th>\n",
       "      <th>State_name</th>\n",
       "    </tr>\n",
       "  </thead>\n",
       "  <tbody>\n",
       "    <tr>\n",
       "      <th>0</th>\n",
       "      <td>Priyang Bhatt</td>\n",
       "      <td>New York</td>\n",
       "      <td>NY</td>\n",
       "      <td>priyang bhatt</td>\n",
       "      <td>PRIYANG BHATT</td>\n",
       "      <td>13</td>\n",
       "      <td>New York</td>\n",
       "      <td>Priyang</td>\n",
       "      <td>Bhatt</td>\n",
       "      <td>New York</td>\n",
       "    </tr>\n",
       "    <tr>\n",
       "      <th>1</th>\n",
       "      <td>Rashmin Panchal</td>\n",
       "      <td>Los Angeles</td>\n",
       "      <td>CA</td>\n",
       "      <td>rashmin panchal</td>\n",
       "      <td>RASHMIN PANCHAL</td>\n",
       "      <td>15</td>\n",
       "      <td>Los Angeles</td>\n",
       "      <td>Rashmin</td>\n",
       "      <td>Panchal</td>\n",
       "      <td>California</td>\n",
       "    </tr>\n",
       "    <tr>\n",
       "      <th>2</th>\n",
       "      <td>Anil Rana</td>\n",
       "      <td>Chicago</td>\n",
       "      <td>IL</td>\n",
       "      <td>anil rana</td>\n",
       "      <td>ANIL RANA</td>\n",
       "      <td>9</td>\n",
       "      <td>Chicago</td>\n",
       "      <td>Anil</td>\n",
       "      <td>Rana</td>\n",
       "      <td>IL</td>\n",
       "    </tr>\n",
       "    <tr>\n",
       "      <th>3</th>\n",
       "      <td>Rahul Patel</td>\n",
       "      <td>Houston</td>\n",
       "      <td>TX</td>\n",
       "      <td>rahul patel</td>\n",
       "      <td>RAHUL PATEL</td>\n",
       "      <td>11</td>\n",
       "      <td>Houston</td>\n",
       "      <td>Rahul</td>\n",
       "      <td>Patel</td>\n",
       "      <td>TX</td>\n",
       "    </tr>\n",
       "  </tbody>\n",
       "</table>\n",
       "</div>"
      ],
      "text/plain": [
       "              Name           City State       name_lower       name_upper  \\\n",
       "0    Priyang Bhatt      New York     NY    priyang bhatt    PRIYANG BHATT   \n",
       "1  Rashmin Panchal   Los Angeles     CA  rashmin panchal  RASHMIN PANCHAL   \n",
       "2        Anil Rana        Chicago    IL        anil rana        ANIL RANA   \n",
       "3      Rahul Patel        Houston    TX      rahul patel      RAHUL PATEL   \n",
       "\n",
       "   Nmae_len   City_strip First_name Last_name  State_name  \n",
       "0        13     New York    Priyang     Bhatt    New York  \n",
       "1        15  Los Angeles    Rashmin   Panchal  California  \n",
       "2         9      Chicago       Anil      Rana          IL  \n",
       "3        11      Houston      Rahul     Patel          TX  "
      ]
     },
     "execution_count": 33,
     "metadata": {},
     "output_type": "execute_result"
    }
   ],
   "source": [
    "data"
   ]
  },
  {
   "cell_type": "code",
   "execution_count": 35,
   "id": "b110f1f5",
   "metadata": {},
   "outputs": [],
   "source": [
    "data['Full_name'] = data['First_name'].str.cat(data['Last_name'],sep = '+')"
   ]
  },
  {
   "cell_type": "code",
   "execution_count": 36,
   "id": "bb261b54",
   "metadata": {},
   "outputs": [
    {
     "data": {
      "text/html": [
       "<div>\n",
       "<style scoped>\n",
       "    .dataframe tbody tr th:only-of-type {\n",
       "        vertical-align: middle;\n",
       "    }\n",
       "\n",
       "    .dataframe tbody tr th {\n",
       "        vertical-align: top;\n",
       "    }\n",
       "\n",
       "    .dataframe thead th {\n",
       "        text-align: right;\n",
       "    }\n",
       "</style>\n",
       "<table border=\"1\" class=\"dataframe\">\n",
       "  <thead>\n",
       "    <tr style=\"text-align: right;\">\n",
       "      <th></th>\n",
       "      <th>Name</th>\n",
       "      <th>City</th>\n",
       "      <th>State</th>\n",
       "      <th>name_lower</th>\n",
       "      <th>name_upper</th>\n",
       "      <th>Nmae_len</th>\n",
       "      <th>City_strip</th>\n",
       "      <th>First_name</th>\n",
       "      <th>Last_name</th>\n",
       "      <th>State_name</th>\n",
       "      <th>Full_name</th>\n",
       "    </tr>\n",
       "  </thead>\n",
       "  <tbody>\n",
       "    <tr>\n",
       "      <th>0</th>\n",
       "      <td>Priyang Bhatt</td>\n",
       "      <td>New York</td>\n",
       "      <td>NY</td>\n",
       "      <td>priyang bhatt</td>\n",
       "      <td>PRIYANG BHATT</td>\n",
       "      <td>13</td>\n",
       "      <td>New York</td>\n",
       "      <td>Priyang</td>\n",
       "      <td>Bhatt</td>\n",
       "      <td>New York</td>\n",
       "      <td>Priyang+Bhatt</td>\n",
       "    </tr>\n",
       "    <tr>\n",
       "      <th>1</th>\n",
       "      <td>Rashmin Panchal</td>\n",
       "      <td>Los Angeles</td>\n",
       "      <td>CA</td>\n",
       "      <td>rashmin panchal</td>\n",
       "      <td>RASHMIN PANCHAL</td>\n",
       "      <td>15</td>\n",
       "      <td>Los Angeles</td>\n",
       "      <td>Rashmin</td>\n",
       "      <td>Panchal</td>\n",
       "      <td>California</td>\n",
       "      <td>Rashmin+Panchal</td>\n",
       "    </tr>\n",
       "    <tr>\n",
       "      <th>2</th>\n",
       "      <td>Anil Rana</td>\n",
       "      <td>Chicago</td>\n",
       "      <td>IL</td>\n",
       "      <td>anil rana</td>\n",
       "      <td>ANIL RANA</td>\n",
       "      <td>9</td>\n",
       "      <td>Chicago</td>\n",
       "      <td>Anil</td>\n",
       "      <td>Rana</td>\n",
       "      <td>IL</td>\n",
       "      <td>Anil+Rana</td>\n",
       "    </tr>\n",
       "    <tr>\n",
       "      <th>3</th>\n",
       "      <td>Rahul Patel</td>\n",
       "      <td>Houston</td>\n",
       "      <td>TX</td>\n",
       "      <td>rahul patel</td>\n",
       "      <td>RAHUL PATEL</td>\n",
       "      <td>11</td>\n",
       "      <td>Houston</td>\n",
       "      <td>Rahul</td>\n",
       "      <td>Patel</td>\n",
       "      <td>TX</td>\n",
       "      <td>Rahul+Patel</td>\n",
       "    </tr>\n",
       "  </tbody>\n",
       "</table>\n",
       "</div>"
      ],
      "text/plain": [
       "              Name           City State       name_lower       name_upper  \\\n",
       "0    Priyang Bhatt      New York     NY    priyang bhatt    PRIYANG BHATT   \n",
       "1  Rashmin Panchal   Los Angeles     CA  rashmin panchal  RASHMIN PANCHAL   \n",
       "2        Anil Rana        Chicago    IL        anil rana        ANIL RANA   \n",
       "3      Rahul Patel        Houston    TX      rahul patel      RAHUL PATEL   \n",
       "\n",
       "   Nmae_len   City_strip First_name Last_name  State_name        Full_name  \n",
       "0        13     New York    Priyang     Bhatt    New York    Priyang+Bhatt  \n",
       "1        15  Los Angeles    Rashmin   Panchal  California  Rashmin+Panchal  \n",
       "2         9      Chicago       Anil      Rana          IL        Anil+Rana  \n",
       "3        11      Houston      Rahul     Patel          TX      Rahul+Patel  "
      ]
     },
     "execution_count": 36,
     "metadata": {},
     "output_type": "execute_result"
    }
   ],
   "source": [
    "data"
   ]
  },
  {
   "cell_type": "code",
   "execution_count": 37,
   "id": "02699bad",
   "metadata": {},
   "outputs": [
    {
     "data": {
      "text/html": [
       "<div>\n",
       "<style scoped>\n",
       "    .dataframe tbody tr th:only-of-type {\n",
       "        vertical-align: middle;\n",
       "    }\n",
       "\n",
       "    .dataframe tbody tr th {\n",
       "        vertical-align: top;\n",
       "    }\n",
       "\n",
       "    .dataframe thead th {\n",
       "        text-align: right;\n",
       "    }\n",
       "</style>\n",
       "<table border=\"1\" class=\"dataframe\">\n",
       "  <thead>\n",
       "    <tr style=\"text-align: right;\">\n",
       "      <th></th>\n",
       "      <th>Name</th>\n",
       "      <th>City</th>\n",
       "      <th>State</th>\n",
       "      <th>name_lower</th>\n",
       "      <th>name_upper</th>\n",
       "      <th>Nmae_len</th>\n",
       "      <th>City_strip</th>\n",
       "      <th>First_name</th>\n",
       "      <th>Last_name</th>\n",
       "      <th>State_name</th>\n",
       "      <th>Full_name</th>\n",
       "    </tr>\n",
       "  </thead>\n",
       "  <tbody>\n",
       "    <tr>\n",
       "      <th>0</th>\n",
       "      <td>Priyang Bhatt</td>\n",
       "      <td>New York</td>\n",
       "      <td>NY</td>\n",
       "      <td>priyang bhatt</td>\n",
       "      <td>PRIYANG BHATT</td>\n",
       "      <td>13</td>\n",
       "      <td>New York</td>\n",
       "      <td>Priyang</td>\n",
       "      <td>Bhatt</td>\n",
       "      <td>New York</td>\n",
       "      <td>Priyang+Bhatt</td>\n",
       "    </tr>\n",
       "    <tr>\n",
       "      <th>1</th>\n",
       "      <td>Rashmin Panchal</td>\n",
       "      <td>Los Angeles</td>\n",
       "      <td>CA</td>\n",
       "      <td>rashmin panchal</td>\n",
       "      <td>RASHMIN PANCHAL</td>\n",
       "      <td>15</td>\n",
       "      <td>Los Angeles</td>\n",
       "      <td>Rashmin</td>\n",
       "      <td>Panchal</td>\n",
       "      <td>California</td>\n",
       "      <td>Rashmin+Panchal</td>\n",
       "    </tr>\n",
       "    <tr>\n",
       "      <th>2</th>\n",
       "      <td>Anil Rana</td>\n",
       "      <td>Chicago</td>\n",
       "      <td>IL</td>\n",
       "      <td>anil rana</td>\n",
       "      <td>ANIL RANA</td>\n",
       "      <td>9</td>\n",
       "      <td>Chicago</td>\n",
       "      <td>Anil</td>\n",
       "      <td>Rana</td>\n",
       "      <td>IL</td>\n",
       "      <td>Anil+Rana</td>\n",
       "    </tr>\n",
       "    <tr>\n",
       "      <th>3</th>\n",
       "      <td>Rahul Patel</td>\n",
       "      <td>Houston</td>\n",
       "      <td>TX</td>\n",
       "      <td>rahul patel</td>\n",
       "      <td>RAHUL PATEL</td>\n",
       "      <td>11</td>\n",
       "      <td>Houston</td>\n",
       "      <td>Rahul</td>\n",
       "      <td>Patel</td>\n",
       "      <td>TX</td>\n",
       "      <td>Rahul+Patel</td>\n",
       "    </tr>\n",
       "  </tbody>\n",
       "</table>\n",
       "</div>"
      ],
      "text/plain": [
       "              Name           City State       name_lower       name_upper  \\\n",
       "0    Priyang Bhatt      New York     NY    priyang bhatt    PRIYANG BHATT   \n",
       "1  Rashmin Panchal   Los Angeles     CA  rashmin panchal  RASHMIN PANCHAL   \n",
       "2        Anil Rana        Chicago    IL        anil rana        ANIL RANA   \n",
       "3      Rahul Patel        Houston    TX      rahul patel      RAHUL PATEL   \n",
       "\n",
       "   Nmae_len   City_strip First_name Last_name  State_name        Full_name  \n",
       "0        13     New York    Priyang     Bhatt    New York    Priyang+Bhatt  \n",
       "1        15  Los Angeles    Rashmin   Panchal  California  Rashmin+Panchal  \n",
       "2         9      Chicago       Anil      Rana          IL        Anil+Rana  \n",
       "3        11      Houston      Rahul     Patel          TX      Rahul+Patel  "
      ]
     },
     "execution_count": 37,
     "metadata": {},
     "output_type": "execute_result"
    }
   ],
   "source": [
    "data"
   ]
  },
  {
   "cell_type": "code",
   "execution_count": 39,
   "id": "4a47d4cb",
   "metadata": {},
   "outputs": [
    {
     "data": {
      "text/plain": [
       "0    t\n",
       "1    l\n",
       "2    a\n",
       "3    l\n",
       "Name: Name, dtype: object"
      ]
     },
     "execution_count": 39,
     "metadata": {},
     "output_type": "execute_result"
    }
   ],
   "source": [
    "data['Name'].str.get(-1)"
   ]
  },
  {
   "cell_type": "code",
   "execution_count": 44,
   "id": "e299ce62",
   "metadata": {},
   "outputs": [
    {
     "data": {
      "text/plain": [
       "0      Bhatt\n",
       "1    Panchal\n",
       "2       Rana\n",
       "3      Patel\n",
       "Name: Name, dtype: object"
      ]
     },
     "execution_count": 44,
     "metadata": {},
     "output_type": "execute_result"
    }
   ],
   "source": [
    "data['Name'].str.split().str.get(-1)"
   ]
  },
  {
   "cell_type": "code",
   "execution_count": 52,
   "id": "b4190ebf",
   "metadata": {},
   "outputs": [
    {
     "data": {
      "text/plain": [
       "0    Pri\n",
       "1    Ras\n",
       "2    Ani\n",
       "3    Rah\n",
       "Name: Name, dtype: object"
      ]
     },
     "execution_count": 52,
     "metadata": {},
     "output_type": "execute_result"
    }
   ],
   "source": [
    "data['Name'].str.slice(0,3)"
   ]
  },
  {
   "cell_type": "code",
   "execution_count": 54,
   "id": "af1cd11a",
   "metadata": {},
   "outputs": [],
   "source": [
    "data['name_state'] = data['Name'].str.slice(0,3) + ' ' + data['State']"
   ]
  },
  {
   "cell_type": "code",
   "execution_count": 55,
   "id": "b1cf8243",
   "metadata": {},
   "outputs": [
    {
     "data": {
      "text/html": [
       "<div>\n",
       "<style scoped>\n",
       "    .dataframe tbody tr th:only-of-type {\n",
       "        vertical-align: middle;\n",
       "    }\n",
       "\n",
       "    .dataframe tbody tr th {\n",
       "        vertical-align: top;\n",
       "    }\n",
       "\n",
       "    .dataframe thead th {\n",
       "        text-align: right;\n",
       "    }\n",
       "</style>\n",
       "<table border=\"1\" class=\"dataframe\">\n",
       "  <thead>\n",
       "    <tr style=\"text-align: right;\">\n",
       "      <th></th>\n",
       "      <th>Name</th>\n",
       "      <th>City</th>\n",
       "      <th>State</th>\n",
       "      <th>name_lower</th>\n",
       "      <th>name_upper</th>\n",
       "      <th>Nmae_len</th>\n",
       "      <th>City_strip</th>\n",
       "      <th>First_name</th>\n",
       "      <th>Last_name</th>\n",
       "      <th>State_name</th>\n",
       "      <th>Full_name</th>\n",
       "      <th>name_state</th>\n",
       "    </tr>\n",
       "  </thead>\n",
       "  <tbody>\n",
       "    <tr>\n",
       "      <th>0</th>\n",
       "      <td>Priyang Bhatt</td>\n",
       "      <td>New York</td>\n",
       "      <td>NY</td>\n",
       "      <td>priyang bhatt</td>\n",
       "      <td>PRIYANG BHATT</td>\n",
       "      <td>13</td>\n",
       "      <td>New York</td>\n",
       "      <td>Priyang</td>\n",
       "      <td>Bhatt</td>\n",
       "      <td>New York</td>\n",
       "      <td>Priyang+Bhatt</td>\n",
       "      <td>Pri NY</td>\n",
       "    </tr>\n",
       "    <tr>\n",
       "      <th>1</th>\n",
       "      <td>Rashmin Panchal</td>\n",
       "      <td>Los Angeles</td>\n",
       "      <td>CA</td>\n",
       "      <td>rashmin panchal</td>\n",
       "      <td>RASHMIN PANCHAL</td>\n",
       "      <td>15</td>\n",
       "      <td>Los Angeles</td>\n",
       "      <td>Rashmin</td>\n",
       "      <td>Panchal</td>\n",
       "      <td>California</td>\n",
       "      <td>Rashmin+Panchal</td>\n",
       "      <td>Ras CA</td>\n",
       "    </tr>\n",
       "    <tr>\n",
       "      <th>2</th>\n",
       "      <td>Anil Rana</td>\n",
       "      <td>Chicago</td>\n",
       "      <td>IL</td>\n",
       "      <td>anil rana</td>\n",
       "      <td>ANIL RANA</td>\n",
       "      <td>9</td>\n",
       "      <td>Chicago</td>\n",
       "      <td>Anil</td>\n",
       "      <td>Rana</td>\n",
       "      <td>IL</td>\n",
       "      <td>Anil+Rana</td>\n",
       "      <td>Ani IL</td>\n",
       "    </tr>\n",
       "    <tr>\n",
       "      <th>3</th>\n",
       "      <td>Rahul Patel</td>\n",
       "      <td>Houston</td>\n",
       "      <td>TX</td>\n",
       "      <td>rahul patel</td>\n",
       "      <td>RAHUL PATEL</td>\n",
       "      <td>11</td>\n",
       "      <td>Houston</td>\n",
       "      <td>Rahul</td>\n",
       "      <td>Patel</td>\n",
       "      <td>TX</td>\n",
       "      <td>Rahul+Patel</td>\n",
       "      <td>Rah TX</td>\n",
       "    </tr>\n",
       "  </tbody>\n",
       "</table>\n",
       "</div>"
      ],
      "text/plain": [
       "              Name           City State       name_lower       name_upper  \\\n",
       "0    Priyang Bhatt      New York     NY    priyang bhatt    PRIYANG BHATT   \n",
       "1  Rashmin Panchal   Los Angeles     CA  rashmin panchal  RASHMIN PANCHAL   \n",
       "2        Anil Rana        Chicago    IL        anil rana        ANIL RANA   \n",
       "3      Rahul Patel        Houston    TX      rahul patel      RAHUL PATEL   \n",
       "\n",
       "   Nmae_len   City_strip First_name Last_name  State_name        Full_name  \\\n",
       "0        13     New York    Priyang     Bhatt    New York    Priyang+Bhatt   \n",
       "1        15  Los Angeles    Rashmin   Panchal  California  Rashmin+Panchal   \n",
       "2         9      Chicago       Anil      Rana          IL        Anil+Rana   \n",
       "3        11      Houston      Rahul     Patel          TX      Rahul+Patel   \n",
       "\n",
       "  name_state  \n",
       "0     Pri NY  \n",
       "1     Ras CA  \n",
       "2     Ani IL  \n",
       "3     Rah TX  "
      ]
     },
     "execution_count": 55,
     "metadata": {},
     "output_type": "execute_result"
    }
   ],
   "source": [
    "data"
   ]
  },
  {
   "cell_type": "code",
   "execution_count": 57,
   "id": "7c0831a1",
   "metadata": {},
   "outputs": [
    {
     "data": {
      "text/plain": [
       "0    9\n",
       "1    3\n",
       "2   -1\n",
       "3    2\n",
       "Name: Name, dtype: int64"
      ]
     },
     "execution_count": 57,
     "metadata": {},
     "output_type": "execute_result"
    }
   ],
   "source": [
    "data['Name'].str.find('h')"
   ]
  },
  {
   "cell_type": "code",
   "execution_count": 59,
   "id": "8f77e601",
   "metadata": {},
   "outputs": [
    {
     "data": {
      "text/plain": [
       "0    10\n",
       "1    13\n",
       "2     8\n",
       "3     7\n",
       "Name: Name, dtype: int64"
      ]
     },
     "execution_count": 59,
     "metadata": {},
     "output_type": "execute_result"
    }
   ],
   "source": [
    "data['Name'].str.rfind('a')"
   ]
  },
  {
   "cell_type": "code",
   "execution_count": null,
   "id": "256ec683",
   "metadata": {},
   "outputs": [],
   "source": []
  }
 ],
 "metadata": {
  "kernelspec": {
   "display_name": "Python 3 (ipykernel)",
   "language": "python",
   "name": "python3"
  },
  "language_info": {
   "codemirror_mode": {
    "name": "ipython",
    "version": 3
   },
   "file_extension": ".py",
   "mimetype": "text/x-python",
   "name": "python",
   "nbconvert_exporter": "python",
   "pygments_lexer": "ipython3",
   "version": "3.11.4"
  }
 },
 "nbformat": 4,
 "nbformat_minor": 5
}
