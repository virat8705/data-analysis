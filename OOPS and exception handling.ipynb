{
 "cells": [
  {
   "cell_type": "code",
   "execution_count": 1,
   "id": "ed4ac944",
   "metadata": {},
   "outputs": [],
   "source": [
    "class car:\n",
    "    def __init__(self,window,door,enginetype):\n",
    "        self.windows=window\n",
    "        self.doors=door\n",
    "        self.enginetype=enginetype\n",
    "    def self_driving(self):\n",
    "        return \"This is a {} car\".format(self.enginetype)\n",
    "    "
   ]
  },
  {
   "cell_type": "code",
   "execution_count": 2,
   "id": "132e3976",
   "metadata": {},
   "outputs": [],
   "source": [
    "car1=car(6,4,\"Petrol\")"
   ]
  },
  {
   "cell_type": "code",
   "execution_count": 3,
   "id": "6262e984",
   "metadata": {},
   "outputs": [
    {
     "data": {
      "text/plain": [
       "'This is a Petrol car'"
      ]
     },
     "execution_count": 3,
     "metadata": {},
     "output_type": "execute_result"
    }
   ],
   "source": [
    "car1.self_driving()"
   ]
  },
  {
   "cell_type": "code",
   "execution_count": 4,
   "id": "b29fcc84",
   "metadata": {},
   "outputs": [],
   "source": [
    "car2=car(3,5,\"Diesel\")"
   ]
  },
  {
   "cell_type": "code",
   "execution_count": 5,
   "id": "9a5519e9",
   "metadata": {},
   "outputs": [
    {
     "name": "stdout",
     "output_type": "stream",
     "text": [
      "6\n"
     ]
    }
   ],
   "source": [
    "print(car1.windows)"
   ]
  },
  {
   "cell_type": "code",
   "execution_count": 6,
   "id": "14f501a3",
   "metadata": {},
   "outputs": [
    {
     "name": "stdout",
     "output_type": "stream",
     "text": [
      "Diesel\n"
     ]
    }
   ],
   "source": [
    "print(car2.enginetype)"
   ]
  },
  {
   "cell_type": "code",
   "execution_count": null,
   "id": "594ea53b",
   "metadata": {},
   "outputs": [],
   "source": []
  },
  {
   "cell_type": "code",
   "execution_count": null,
   "id": "92d861d2",
   "metadata": {},
   "outputs": [],
   "source": []
  },
  {
   "cell_type": "code",
   "execution_count": null,
   "id": "e382e5f4",
   "metadata": {},
   "outputs": [],
   "source": []
  },
  {
   "cell_type": "code",
   "execution_count": null,
   "id": "15f51f1f",
   "metadata": {},
   "outputs": [],
   "source": []
  },
  {
   "cell_type": "code",
   "execution_count": null,
   "id": "8a079db6",
   "metadata": {},
   "outputs": [],
   "source": []
  },
  {
   "cell_type": "code",
   "execution_count": null,
   "id": "a69a816f",
   "metadata": {},
   "outputs": [],
   "source": []
  },
  {
   "cell_type": "code",
   "execution_count": null,
   "id": "c96a461c",
   "metadata": {},
   "outputs": [],
   "source": []
  },
  {
   "cell_type": "code",
   "execution_count": null,
   "id": "cf4e131d",
   "metadata": {},
   "outputs": [],
   "source": []
  },
  {
   "cell_type": "markdown",
   "id": "00622ade",
   "metadata": {},
   "source": [
    "#### Python Exception Handling"
   ]
  },
  {
   "cell_type": "code",
   "execution_count": 7,
   "id": "4d788d34",
   "metadata": {},
   "outputs": [
    {
     "name": "stdout",
     "output_type": "stream",
     "text": [
      "Enter the first number: 8\n",
      "Enter the second number: 5\n",
      "13\n",
      "1.6\n",
      "40\n"
     ]
    }
   ],
   "source": [
    " try:\n",
    "        a= int(input(\"Enter the first number: \"))\n",
    "        b= int(input(\"Enter the second number: \"))\n",
    "        c=a+b\n",
    "        d=a/b\n",
    "        e=a*b\n",
    "        print(c)\n",
    "        print(d)\n",
    "        print(e)\n",
    "except ZeroDivisionError:\n",
    "    print(\"Enter the number greater than 0\")\n",
    "except Exception as ex:\n",
    "    print(ex)"
   ]
  },
  {
   "cell_type": "code",
   "execution_count": 8,
   "id": "b0806f8f",
   "metadata": {},
   "outputs": [
    {
     "name": "stdout",
     "output_type": "stream",
     "text": [
      "Enter the first number: 8\n",
      "Enter the second number: 4\n"
     ]
    }
   ],
   "source": [
    "        a= int(input(\"Enter the first number: \"))\n",
    "        b= int(input(\"Enter the second number: \"))\n",
    "        c=a+b\n",
    "        d=a/b\n",
    "        e=a*b"
   ]
  },
  {
   "cell_type": "code",
   "execution_count": 9,
   "id": "d1467c38",
   "metadata": {},
   "outputs": [
    {
     "name": "stdout",
     "output_type": "stream",
     "text": [
      "Enter the first number: 8\n",
      "Enter the second number: 0\n",
      "Enter the number greater than 0\n",
      "The execution is done\n"
     ]
    }
   ],
   "source": [
    "## try else\n",
    "try:\n",
    "        a= int(input(\"Enter the first number: \"))\n",
    "        b= int(input(\"Enter the second number: \"))\n",
    "        c=a+b\n",
    "        d=a/b\n",
    "        e=a*b\n",
    "        \n",
    "except ZeroDivisionError:\n",
    "    print(\"Enter the number greater than 0\")\n",
    "except Exception as ex:\n",
    "    print(ex)\n",
    "else:\n",
    "    print(c)\n",
    "    print(d)\n",
    "    print(e)\n",
    "finally:\n",
    "    print(\"The execution is done\")"
   ]
  },
  {
   "cell_type": "markdown",
   "id": "d3b23812",
   "metadata": {},
   "source": [
    "#### Custom Exception\n"
   ]
  },
  {
   "cell_type": "code",
   "execution_count": 10,
   "id": "18dd9b77",
   "metadata": {},
   "outputs": [],
   "source": [
    "class Error(Exception):\n",
    "    pass\n",
    "class dobException(Error):\n",
    "    pass\n"
   ]
  },
  {
   "cell_type": "code",
   "execution_count": 11,
   "id": "5ce2901f",
   "metadata": {},
   "outputs": [
    {
     "name": "stdout",
     "output_type": "stream",
     "text": [
      "Enter the year of Birth 1995\n",
      "The age is valid and you can apply for the exams\n"
     ]
    }
   ],
   "source": [
    "year = int(input(\"Enter the year of Birth \"))\n",
    "age = 2023-year\n",
    "try:\n",
    "    if age<=30 & age>=20:\n",
    "        print(\"The age is valid and you can apply for the exams\")\n",
    "    else:\n",
    "        raise(dobException)\n",
    "except dobException:\n",
    "    print(\"The age is not within the range,Sorry you can not apply for the exams\")"
   ]
  },
  {
   "cell_type": "code",
   "execution_count": null,
   "id": "18286fdd",
   "metadata": {},
   "outputs": [],
   "source": []
  }
 ],
 "metadata": {
  "kernelspec": {
   "display_name": "Python 3 (ipykernel)",
   "language": "python",
   "name": "python3"
  },
  "language_info": {
   "codemirror_mode": {
    "name": "ipython",
    "version": 3
   },
   "file_extension": ".py",
   "mimetype": "text/x-python",
   "name": "python",
   "nbconvert_exporter": "python",
   "pygments_lexer": "ipython3",
   "version": "3.11.4"
  }
 },
 "nbformat": 4,
 "nbformat_minor": 5
}
